{
 "cells": [
  {
   "cell_type": "code",
   "execution_count": 7,
   "id": "4b6b1c53",
   "metadata": {},
   "outputs": [
    {
     "name": "stdout",
     "output_type": "stream",
     "text": [
      "7.0\n"
     ]
    }
   ],
   "source": [
    "import numpy as np\n",
    "lists=[9,8,7,6,5]\n",
    "x = lambda a:np.sum(lists)/len(lists)\n",
    "print(x(lists))"
   ]
  },
  {
   "cell_type": "code",
   "execution_count": null,
   "id": "b608a84f",
   "metadata": {},
   "outputs": [],
   "source": []
  }
 ],
 "metadata": {
  "kernelspec": {
   "display_name": "Python 3",
   "language": "python",
   "name": "python3"
  },
  "language_info": {
   "codemirror_mode": {
    "name": "ipython",
    "version": 3
   },
   "file_extension": ".py",
   "mimetype": "text/x-python",
   "name": "python",
   "nbconvert_exporter": "python",
   "pygments_lexer": "ipython3",
   "version": "3.8.8"
  }
 },
 "nbformat": 4,
 "nbformat_minor": 5
}
